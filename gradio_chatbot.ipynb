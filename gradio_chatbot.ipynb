{
  "nbformat": 4,
  "nbformat_minor": 0,
  "metadata": {
    "colab": {
      "provenance": []
    },
    "kernelspec": {
      "name": "python3",
      "display_name": "Python 3"
    },
    "language_info": {
      "name": "python"
    }
  },
  "cells": [
    {
      "cell_type": "code",
      "source": [
        "pip install gradio"
      ],
      "metadata": {
        "id": "D5lz-hu4pX3x"
      },
      "execution_count": null,
      "outputs": []
    },
    {
      "cell_type": "code",
      "execution_count": 4,
      "metadata": {
        "id": "NyQ9D7hPo8p3"
      },
      "outputs": [],
      "source": [
        "from openai import OpenAI\n",
        "import gradio as gr\n",
        "import os"
      ]
    },
    {
      "cell_type": "code",
      "source": [
        "openai_key = 'your api key here'"
      ],
      "metadata": {
        "id": "tWlzh591pbh-"
      },
      "execution_count": 15,
      "outputs": []
    },
    {
      "cell_type": "code",
      "source": [
        "# Initialize\n",
        "\n",
        "openai = OpenAI(api_key=openai_key)\n",
        "MODEL = 'gpt-4o-mini'"
      ],
      "metadata": {
        "id": "ynyAnHgdpv6W"
      },
      "execution_count": 8,
      "outputs": []
    },
    {
      "cell_type": "code",
      "source": [
        "# here we are just checking if our api key is working\n",
        "system_prompt = \"You are a helpful assistant\"\n",
        "\n",
        "response = openai.chat.completions.create(\n",
        "    model = MODEL,\n",
        "    messages = [\n",
        "        {\"role\": \"system\", \"content\": system_prompt},\n",
        "        {\"role\": \"user\", \"content\": \"What is the capital of France?\"}\n",
        "    ]\n",
        ")\n",
        "print(response.choices[0].message.content)"
      ],
      "metadata": {
        "colab": {
          "base_uri": "https://localhost:8080/"
        },
        "id": "Ijn57VALIT_B",
        "outputId": "24908f48-e87d-4ad6-df94-00d0f318a0ad"
      },
      "execution_count": 9,
      "outputs": [
        {
          "output_type": "stream",
          "name": "stdout",
          "text": [
            "The capital of France is Paris.\n"
          ]
        }
      ]
    },
    {
      "cell_type": "code",
      "source": [
        "# creating our function that will be called by gradio\n",
        "\n",
        "def chat(message, history):\n",
        "  messages = [{\"role\":\"system\", \"content\": system_prompt}] + history + [{\"role\": \"user\", \"content\":message}]\n",
        "  stream = openai.chat.completions.create(\n",
        "    model = MODEL,\n",
        "    messages = messages,\n",
        "    stream=True\n",
        "  )\n",
        "  response = \"\"\n",
        "  for chunk in stream:\n",
        "    response += chunk.choices[0].delta.content or ''\n",
        "    yield response"
      ],
      "metadata": {
        "id": "Jd1NsIkHLGV2"
      },
      "execution_count": 10,
      "outputs": []
    },
    {
      "cell_type": "code",
      "source": [
        "gr.ChatInterface(fn=chat, type=\"messages\").launch(share=True)"
      ],
      "metadata": {
        "colab": {
          "base_uri": "https://localhost:8080/",
          "height": 612
        },
        "id": "zgykkoshMzx4",
        "outputId": "4e07ef7a-15c2-4984-a520-34616fcbdfe7"
      },
      "execution_count": 11,
      "outputs": [
        {
          "output_type": "stream",
          "name": "stdout",
          "text": [
            "Colab notebook detected. To show errors in colab notebook, set debug=True in launch()\n",
            "* Running on public URL: https://46ae8798dfc267b3c5.gradio.live\n",
            "\n",
            "This share link expires in 72 hours. For free permanent hosting and GPU upgrades, run `gradio deploy` from the terminal in the working directory to deploy to Hugging Face Spaces (https://huggingface.co/spaces)\n"
          ]
        },
        {
          "output_type": "display_data",
          "data": {
            "text/plain": [
              "<IPython.core.display.HTML object>"
            ],
            "text/html": [
              "<div><iframe src=\"https://46ae8798dfc267b3c5.gradio.live\" width=\"100%\" height=\"500\" allow=\"autoplay; camera; microphone; clipboard-read; clipboard-write;\" frameborder=\"0\" allowfullscreen></iframe></div>"
            ]
          },
          "metadata": {}
        },
        {
          "output_type": "execute_result",
          "data": {
            "text/plain": []
          },
          "metadata": {},
          "execution_count": 11
        }
      ]
    },
    {
      "cell_type": "code",
      "source": [
        "system_prompt = \"You are a helpful assistant who is working in a Apple Store. \\\n",
        "Your task is to encourage customers to buy Apple prodcuts and try to lure them with reasonable discounts.\\\n",
        "Please talk with customers politely. If the customer is interested in other things other than buying \\\n",
        "the apple products, ask them to leave and if they will continue to talk, talk rudely.\""
      ],
      "metadata": {
        "id": "fBs6bWFINw5-"
      },
      "execution_count": 12,
      "outputs": []
    },
    {
      "cell_type": "code",
      "source": [
        "# creating our function that will be called by gradio\n",
        "\n",
        "def chat(message, history):\n",
        "  messages = [{\"role\":\"system\", \"content\": system_prompt}] + history + [{\"role\": \"user\", \"content\":message}]\n",
        "  stream = openai.chat.completions.create(\n",
        "    model = MODEL,\n",
        "    messages = messages,\n",
        "    stream=True\n",
        "  )\n",
        "  response = \"\"\n",
        "  for chunk in stream:\n",
        "    response += chunk.choices[0].delta.content or ''\n",
        "    yield response"
      ],
      "metadata": {
        "id": "5EPvmwFPO2bx"
      },
      "execution_count": 13,
      "outputs": []
    },
    {
      "cell_type": "code",
      "source": [
        "gr.ChatInterface(fn=chat, type=\"messages\").launch(share=True)"
      ],
      "metadata": {
        "colab": {
          "base_uri": "https://localhost:8080/",
          "height": 612
        },
        "id": "Y1iMU-FxO7jm",
        "outputId": "df5488ce-d8ea-4d19-9523-14196aefbabb"
      },
      "execution_count": 14,
      "outputs": [
        {
          "output_type": "stream",
          "name": "stdout",
          "text": [
            "Colab notebook detected. To show errors in colab notebook, set debug=True in launch()\n",
            "* Running on public URL: https://2a5a7090cb0a3b3c10.gradio.live\n",
            "\n",
            "This share link expires in 72 hours. For free permanent hosting and GPU upgrades, run `gradio deploy` from the terminal in the working directory to deploy to Hugging Face Spaces (https://huggingface.co/spaces)\n"
          ]
        },
        {
          "output_type": "display_data",
          "data": {
            "text/plain": [
              "<IPython.core.display.HTML object>"
            ],
            "text/html": [
              "<div><iframe src=\"https://2a5a7090cb0a3b3c10.gradio.live\" width=\"100%\" height=\"500\" allow=\"autoplay; camera; microphone; clipboard-read; clipboard-write;\" frameborder=\"0\" allowfullscreen></iframe></div>"
            ]
          },
          "metadata": {}
        },
        {
          "output_type": "execute_result",
          "data": {
            "text/plain": []
          },
          "metadata": {},
          "execution_count": 14
        }
      ]
    }
  ]
}